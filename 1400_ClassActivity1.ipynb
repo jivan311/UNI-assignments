{
  "nbformat": 4,
  "nbformat_minor": 0,
  "metadata": {
    "colab": {
      "provenance": [],
      "include_colab_link": true
    },
    "kernelspec": {
      "name": "python3",
      "display_name": "Python 3"
    },
    "language_info": {
      "name": "python"
    }
  },
  "cells": [
    {
      "cell_type": "markdown",
      "metadata": {
        "id": "view-in-github",
        "colab_type": "text"
      },
      "source": [
        "<a href=\"https://colab.research.google.com/github/omnibeast/UNI-assignments/blob/main/1400_ClassActivity1.ipynb\" target=\"_parent\"><img src=\"https://colab.research.google.com/assets/colab-badge.svg\" alt=\"Open In Colab\"/></a>"
      ]
    },
    {
      "cell_type": "markdown",
      "source": [
        "**Run the following samples of code. After you run them double click in the observation area below the code and add an explanation of what the code did and why you think the output occured. You will also answer the reflection questions at the bottom of the Try It Out. **\n",
        "\n"
      ],
      "metadata": {
        "id": "1fhnobtOXAUk"
      }
    },
    {
      "cell_type": "markdown",
      "source": [
        "# Input and Output"
      ],
      "metadata": {
        "id": "51TgW_TKcHeC"
      }
    },
    {
      "cell_type": "code",
      "source": [
        "# first program in python\n",
        "\n",
        "print('Hello World')\n",
        "print('Welcome to my first Python Program')\n",
        "print('I am excited to learn about \\nPython!')"
      ],
      "metadata": {
        "id": "V-nDTT0QXQQ4",
        "outputId": "cb7a6a33-6ad2-4163-aeae-0c5279e2a90c",
        "colab": {
          "base_uri": "https://localhost:8080/"
        }
      },
      "execution_count": null,
      "outputs": [
        {
          "output_type": "stream",
          "name": "stdout",
          "text": [
            "Hello World\n",
            "Welcome to my first Python Program\n",
            "I am excited to learn about \n",
            "Python!\n"
          ]
        }
      ]
    },
    {
      "cell_type": "markdown",
      "source": [
        "**Your Observations: What is happening in the above code? What is \\n used for?**\n",
        "> \\n is used for line break (new line)"
      ],
      "metadata": {
        "id": "0INOsGaPXo8C"
      }
    },
    {
      "cell_type": "markdown",
      "source": [
        "Run the following code that will allow you to input your name."
      ],
      "metadata": {
        "id": "VG03ctV5ob4O"
      }
    },
    {
      "cell_type": "code",
      "source": [
        "first = \"\"\n",
        "last = \"\"\n",
        "fullName = \"\"\n",
        "age = 0\n",
        "\n",
        "first = input(\"What is your first name? \")\n",
        "\n",
        "#add a line of code to print out your name\n",
        "print(first)\n"
      ],
      "metadata": {
        "id": "EhA91BDtoqVZ",
        "colab": {
          "base_uri": "https://localhost:8080/"
        },
        "outputId": "d2dfa995-3dd0-49a9-d155-08b7981f16f5"
      },
      "execution_count": 1,
      "outputs": [
        {
          "output_type": "stream",
          "name": "stdout",
          "text": [
            "What is your first name? saurav\n",
            "saurav\n"
          ]
        }
      ]
    },
    {
      "cell_type": "markdown",
      "source": [
        "**Your Observations:\n",
        "What variable is your name being stored in?**\n",
        "> Name is stored in variable first.\n",
        "\n",
        "**Now add a line of code to print out your first name. **\n",
        "\n",
        "\n",
        "> print(first)"
      ],
      "metadata": {
        "id": "m6vq4rYwo_mc"
      }
    },
    {
      "cell_type": "markdown",
      "source": [
        "When using the command input, by default a string data type is returned. Observe the following code:"
      ],
      "metadata": {
        "id": "W8dxDSq3pYch"
      }
    },
    {
      "cell_type": "markdown",
      "source": [],
      "metadata": {
        "id": "nNMbymYPCmsW"
      }
    },
    {
      "cell_type": "code",
      "source": [
        "age = 0\n",
        "\n",
        "age = int(input(\"What is your age? \"))"
      ],
      "metadata": {
        "id": "YCeLTJVApSmK"
      },
      "execution_count": null,
      "outputs": []
    },
    {
      "cell_type": "markdown",
      "source": [
        "**Your observation: What variable is used in this code? What is needed to cast input as an int? What is the = sign being used for?**\n",
        "\n",
        ">The variable used in this code is age.\n",
        ">The int() function is used to cast input as interger.\n",
        "The = sign is used to assign value for any code. Here = is used to assign value on right for variable in left side, age."
      ],
      "metadata": {
        "id": "r36fUA6YqNLT"
      }
    },
    {
      "cell_type": "markdown",
      "source": [
        "# Concatenation"
      ],
      "metadata": {
        "id": "acbSjd6Wcm3A"
      }
    },
    {
      "cell_type": "markdown",
      "source": [
        "The + sign can be used to add numbers together in Python."
      ],
      "metadata": {
        "id": "DjX9Hw4MjoaO"
      }
    },
    {
      "cell_type": "code",
      "source": [
        "print(5+2+3)\n"
      ],
      "metadata": {
        "id": "yyg2Do-wXxrh",
        "colab": {
          "base_uri": "https://localhost:8080/"
        },
        "outputId": "c4e5afb9-46a1-40c9-be20-a48ec7e79a34"
      },
      "execution_count": 2,
      "outputs": [
        {
          "output_type": "stream",
          "name": "stdout",
          "text": [
            "10\n"
          ]
        }
      ]
    },
    {
      "cell_type": "markdown",
      "source": [
        "**Your Observations:**\n",
        "> +sign is used to perfrom mathematic operation, addition."
      ],
      "metadata": {
        "id": "wPk7a-pbiwUf"
      }
    },
    {
      "cell_type": "markdown",
      "source": [
        "The + sign can also be used for concatenation. Concatenation allows the user to place items side by side."
      ],
      "metadata": {
        "id": "4hfrH7AMjvuh"
      }
    },
    {
      "cell_type": "code",
      "source": [
        "name = input('What is your name? ')\n",
        "\n",
        "print('Hello ' + name)"
      ],
      "metadata": {
        "id": "XsXPuLiGevg9"
      },
      "execution_count": null,
      "outputs": []
    },
    {
      "cell_type": "markdown",
      "source": [
        "If we try to concatenate a number and literal text the number must first be cast as a string."
      ],
      "metadata": {
        "id": "Jt--7-J_etla"
      }
    },
    {
      "cell_type": "code",
      "source": [
        "print(\"The Number: \" + str(4) + \" is the answer \")"
      ],
      "metadata": {
        "colab": {
          "base_uri": "https://localhost:8080/"
        },
        "id": "4jBJ8ezSj9kJ",
        "outputId": "1d673e3e-0359-4dda-d388-9712f10de52c"
      },
      "execution_count": null,
      "outputs": [
        {
          "output_type": "stream",
          "name": "stdout",
          "text": [
            "The Number: 4 is the answer \n"
          ]
        }
      ]
    },
    {
      "cell_type": "markdown",
      "source": [
        "A comma can also be used to concatenate. By using the comma it concatenates a space automatically."
      ],
      "metadata": {
        "id": "Zokc_eF9kPZ8"
      }
    },
    {
      "cell_type": "code",
      "source": [
        "print(\"The Number:\", 4, \"is the answer \")"
      ],
      "metadata": {
        "id": "-DbS9m9Nks-x"
      },
      "execution_count": null,
      "outputs": []
    },
    {
      "cell_type": "markdown",
      "source": [
        "**Your turn! Add a line of code to the following program, use concatenation to output the full name in one print line with a label for full name.**"
      ],
      "metadata": {
        "id": "Ex2AjaUVfw1q"
      }
    },
    {
      "cell_type": "code",
      "source": [
        "first = input('What is your first name? ')\n",
        "middle = input('What is your middle name? ')\n",
        "last = input ('What is your last name? ')\n",
        "\n",
        "#output full name with a label\n",
        "print('My name is', )"
      ],
      "metadata": {
        "id": "m6opO6ymgEUJ"
      },
      "execution_count": null,
      "outputs": []
    },
    {
      "cell_type": "markdown",
      "source": [
        "# Errors"
      ],
      "metadata": {
        "id": "1CsRJ4OBG9dS"
      }
    },
    {
      "cell_type": "markdown",
      "source": [
        "Correct 3 syntax errors in the following code so that the program gets the favorite color as input and displays the print line."
      ],
      "metadata": {
        "id": "Fw5NZZwAHCxF"
      }
    },
    {
      "cell_type": "code",
      "source": [
        "color = ('What is your favorite color?')\n",
        "\n",
        "print('Wow', color, 'that is my favorite too!')\n"
      ],
      "metadata": {
        "id": "7BtJP4rSHgXz",
        "colab": {
          "base_uri": "https://localhost:8080/"
        },
        "outputId": "14cd7de6-e9f4-4e7c-c467-6fb7b409d1fa"
      },
      "execution_count": null,
      "outputs": [
        {
          "output_type": "stream",
          "name": "stdout",
          "text": [
            "Wow What is your favorite color? that is my favorite too!\n"
          ]
        }
      ]
    },
    {
      "cell_type": "markdown",
      "source": [
        "# Arithmetic Operators"
      ],
      "metadata": {
        "id": "x3vI4a5uLfwf"
      }
    },
    {
      "cell_type": "markdown",
      "source": [
        "*Run the following samples of code. After you run them double click to record your observations or answer the reflection questions.\n",
        "\n",
        "Observe the following lines of code to see what you notice about the math operators. Practice using the # sign to create comments. A comment is a line in the code that will not execute. Only the first line of code is currently active. Use the # to comment out code you do not want to run. Remove the # sign to run each line of code one at a time. The + sign can be used for both concatenation and addition in the same print line."
      ],
      "metadata": {
        "id": "L9bIhEkpLpRu"
      }
    },
    {
      "cell_type": "code",
      "source": [
        "print(\"The Answer is: \" + str(40 + 2))\n",
        "print(str(4) + str(2) + \": Life, the universe and everything\" )\n",
        "print(\"PI: \" + str(float(3.14159)))\n",
        "print(\"PI: \" + str(int(3.14159)))\n",
        "print(\"Int Division \" + str(int(10 / 4 )))\n",
        "print(\"Int Division \" + str(10 // 4))\n",
        "print(\"Floating Point Division \" + str(10.0 / 4))\n",
        "print(\"Type Casting as float \" + str(float(10 / 4)))\n",
        "print(\"Type Casting as int \" + str(int(10.5 / 4 )))\n",
        "print(\"Mod: \" + str(17 % 3 ))\n",
        "print(\"Order of Operations \" + str(2 + 5 / 3 ))\n",
        "print(\"Order of Operations  \" + str(( 2 + 5 ) / 3 ));\n",
        "print(\"Order Matters \" + str(int( 1.9) + int(1.9 )));\n",
        "print(\"Order Matters \" + str(int( 1.9 + 1.9 )));\n",
        "print(\"Order and Data Type Matter \" + str(1.9 + 1.9 ));\n",
        "print(\"Rounding: \" + str(round(1.9 + 1.9, 0)));"
      ],
      "metadata": {
        "id": "Ly4aXc1FLtR-"
      },
      "execution_count": null,
      "outputs": []
    },
    {
      "cell_type": "markdown",
      "source": [
        "Reflection Questions\n",
        "\n",
        "When do the numbers get added together as opposed to just being put next together in the output?\n",
        ">Number are added together when they are the part of mathematical operations like, 40 + 2 in str(40 + 2) resulting in 42. Addionally, number are put next to each other when they are converted to string and concatenated.\n",
        "\n",
        "What happens when you use (int) in front of a number with decimals? How about float?\n",
        ">When using int() in front of a number with decimals, it removes the decimal part and returns the interger part.\n",
        "\n",
        "Are there any order of operations that are similar to Math? Are there any that are new to you or different from math?\n",
        ">Parentheses (), Exponents, Multiplication * and division /, and addition + and substraction- were similar to maths while using // for integer division and % for modulus were different for maths."
      ],
      "metadata": {
        "id": "nPrkLqWiLydk"
      }
    },
    {
      "cell_type": "markdown",
      "source": [
        "# Programming Math and Types"
      ],
      "metadata": {
        "id": "dDPCRHB-L7Vk"
      }
    },
    {
      "cell_type": "markdown",
      "source": [
        "1. Run the program below.  Enter the value 32 when it prompts you.  Does the program seem to work?\n",
        "> Yea it worked. We got he out '32 is 0 in celsius'.\n",
        "\n",
        "2. What are the two variables named?\n",
        ">fahrenheit and celsius are two variable.\n",
        "\n",
        "4. Look at the “Get the Input”\n",
        "section.  What command allows the program to allow the user to enter something?\n",
        ">input(\"Enter a Temperature in fahrenheit: \")\n",
        "\n",
        "5. The variable fahrenheit is going to store what data type?\n",
        ">interger\n",
        "\n",
        "6. Run the program again.  This time enter the value 50.5.  Why do you think it crashes?\n",
        ">The program crashes because int(50.5) is not a interger value.\n",
        "\n",
        "\n",
        "7. Change the cast of the input result so that the variable fahrenheit stores decimals.  (Use float instead of int)\n",
        "\n",
        "\n",
        "9. Run the program again.  Enter the value 50.5.  Did the program crash?\n",
        "Look at the answer.  Is this correct?\n",
        ">No it didn't crash. Yes, it is correct.\n",
        "\n",
        "10. Look at the “Do the Math” section of the code.  Is there anything there that would cause the output to be 0? (Hint: What happens when you have //?)\n",
        ">Using // results in interger division which causes 5//9 to be 0 making enitre exoression 0.\n",
        "\n",
        "11. Fix the error in the code and run the program a few more times to test it out."
      ],
      "metadata": {
        "id": "HvhkjMQpMBtH"
      }
    },
    {
      "cell_type": "code",
      "source": [
        "#get the input\n",
        "fahrenheit = float(input(\"Enter a Temperature in fahrenheit: \"))\n",
        "\n",
        "#do the math\n",
        "celsius = 5/9 * (fahrenheit - 32)\n",
        "\n",
        "#display the answer\n",
        "print(fahrenheit, \"is\", celsius, \" in Celsius\")"
      ],
      "metadata": {
        "id": "juCgAhYvMOaO",
        "colab": {
          "base_uri": "https://localhost:8080/"
        },
        "outputId": "a06f8a14-e7af-4f1f-c9ba-68498364c9cb"
      },
      "execution_count": 7,
      "outputs": [
        {
          "output_type": "stream",
          "name": "stdout",
          "text": [
            "Enter a Temperature in fahrenheit: 50.5\n",
            "50.5 is 10.277777777777779  in Celsius\n"
          ]
        }
      ]
    },
    {
      "cell_type": "markdown",
      "source": [
        "Create your own code below!\n",
        "\n",
        "Use something you just learned to write a small unique program that we will share as a class."
      ],
      "metadata": {
        "id": "hTlD-S4qMSQg"
      }
    },
    {
      "cell_type": "code",
      "source": [
        "\"\"\"\n",
        "Programer: Saurav Pokharel\n",
        "Date: 09/04/2024\n",
        "Description:This program converts the weight from pound(lb) to kilogram(kg).\n",
        "\"\"\"\n",
        "\n",
        "#ASCII Art of Program Name\n",
        "print(\"\"\"\n",
        "┓ ┓       ┓     ┏┓┏┓┳┓┓┏┏┓┳┓┏┳┓┏┓┳┓\n",
        "┃ ┣┓  ━━  ┃┏┏┓  ┃ ┃┃┃┃┃┃┣ ┣┫ ┃ ┣ ┣┫\n",
        "┗┛┗┛      ┛┗┗┫  ┗┛┗┛┛┗┗┛┗┛┛┗ ┻ ┗┛┛┗\n",
        "             ┛\n",
        "\"\"\")\n",
        "\n",
        "#Printing welcome message.\n",
        "print('Welcome to Pound to Kilogram weight converter.')\n",
        "\n",
        "#Program type selection\n",
        "type = input('Type 1 for Lb-Kg else type 2 for Kg-Lb: ')\n",
        "\n",
        "#Code to run if user input is 1.\n",
        "if type == '1':\n",
        "    lb = float(input('Enter the weight in Lb: '))\n",
        "    kg = lb * 0.45359237 #1 pound is equal to 0.45359237 kilogram\n",
        "    print(lb,  'Pound is', kg, 'Kilogram')\n",
        "\n",
        "#Code to run if user input is 2.\n",
        "elif type == '2':\n",
        "    kg = int(input('Enter the weight in Kg: '))\n",
        "    lb = kg / 2.20462262 #1 kilogram is equal to 2.20462262 pound\n",
        "    print(kg, 'Kilogram is', lb,'Pound')\n",
        "\n",
        "#printing the error message if the user input other than 1 or 2 while selecting program type\n",
        "else:\n",
        "    print('Invalid choice. Please restart the program and enter 1 or 2.')\n",
        "\n",
        "#Printing the thank you message\n",
        "print('Thank you for using Lb-Kg weight conveter.')"
      ],
      "metadata": {
        "id": "pL5VTvhpMQ4E",
        "colab": {
          "base_uri": "https://localhost:8080/"
        },
        "outputId": "631cb40f-5f27-4057-8141-c654decf642d"
      },
      "execution_count": null,
      "outputs": [
        {
          "output_type": "stream",
          "name": "stdout",
          "text": [
            "\n",
            "┓ ┓       ┓     ┏┓┏┓┳┓┓┏┏┓┳┓┏┳┓┏┓┳┓\n",
            "┃ ┣┓  ━━  ┃┏┏┓  ┃ ┃┃┃┃┃┃┣ ┣┫ ┃ ┣ ┣┫\n",
            "┗┛┗┛      ┛┗┗┫  ┗┛┗┛┛┗┗┛┗┛┛┗ ┻ ┗┛┛┗\n",
            "             ┛                                                                    \n",
            "\n",
            "Welcome to Pound to Kilogram weight converter.\n",
            "Type 1 for Lb-Kg else type 2 for Kg-Lb: 2\n",
            "Enter the weight in Kg: 12\n",
            "12 Kilogram is 5.44310844456454 Pound\n",
            "Thank you for using Lb-Kg weight conveter.\n"
          ]
        }
      ]
    }
  ]
}