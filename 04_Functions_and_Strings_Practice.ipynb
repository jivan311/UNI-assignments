{
  "nbformat": 4,
  "nbformat_minor": 0,
  "metadata": {
    "colab": {
      "provenance": [],
      "include_colab_link": true
    },
    "kernelspec": {
      "name": "python3",
      "display_name": "Python 3"
    },
    "language_info": {
      "name": "python"
    }
  },
  "cells": [
    {
      "cell_type": "markdown",
      "metadata": {
        "id": "view-in-github",
        "colab_type": "text"
      },
      "source": [
        "<a href=\"https://colab.research.google.com/github/omnibeast/UNI-assignments/blob/main/04_Functions_and_Strings_Practice.ipynb\" target=\"_parent\"><img src=\"https://colab.research.google.com/assets/colab-badge.svg\" alt=\"Open In Colab\"/></a>"
      ]
    },
    {
      "cell_type": "markdown",
      "source": [
        "# Pre-Build Functions"
      ],
      "metadata": {
        "id": "51TgW_TKcHeC"
      }
    },
    {
      "cell_type": "markdown",
      "source": [
        "##Observe the code segment below, then answer the questions.\n",
        "\n",
        "The following program is intended to tell the number of digits that you enter, or negative if you have a negative number.\n",
        "1.  Predict the given output in the comment, the run the code to see if you were correct."
      ],
      "metadata": {
        "id": "0INOsGaPXo8C"
      }
    },
    {
      "cell_type": "code",
      "source": [
        "# first program in python\n",
        "import math\n",
        "\n",
        "decNum = -34.5678\n",
        "intNum = 9\n",
        "print( round(decNum, 2) )   #Prediction: ?\n",
        "print( round(decNum, 0) )   #Prediction: ?\n",
        "print( int(decNum))         #Prediction: ?\n",
        "print( abs(decNum) )        #Prediction: ?\n",
        "\n",
        "print( math.pow(intNum, 2) )     #Prediction: ?\n",
        "print( math.sqrt(intNum) )       #Prediction: ?\n",
        "\n"
      ],
      "metadata": {
        "id": "V-nDTT0QXQQ4",
        "colab": {
          "base_uri": "https://localhost:8080/"
        },
        "outputId": "b6f16b0a-bd2f-4ac1-a201-05d03ee72eff"
      },
      "execution_count": null,
      "outputs": [
        {
          "output_type": "stream",
          "name": "stdout",
          "text": [
            "-34.57\n",
            "-35.0\n",
            "-34\n",
            "34.5678\n"
          ]
        }
      ]
    },
    {
      "cell_type": "markdown",
      "source": [
        "##Max and Min\n",
        "\n",
        "\n"
      ],
      "metadata": {
        "id": "VG03ctV5ob4O"
      }
    },
    {
      "cell_type": "markdown",
      "source": [
        "The following program will determine if a student can get their drivers licence.  Answer the questions with your group.\n",
        "\n",
        "1. Observe the max() function in the code segment below. Notice that it is comparing apple, Banana, Carrot.  Discuss with the group what you predict the output will be?\n",
        "2. Run the code, was your assumption correct?\n",
        "3. Notice the case of the words.  apple is lower case, and the rest have upper case letters.  Change the case of apple, to make it Apple.  Do you think this will change the output?\n",
        "4. Run the program to check your answer.\n",
        "5. Change the max function call to min then run the program.  Do you get the smallest value?\n",
        "\n",
        "\n",
        "\n",
        "\n"
      ],
      "metadata": {
        "id": "sp6e_79XdQry"
      }
    },
    {
      "cell_type": "code",
      "source": [
        "myMax = max(\"apple\", \"Banana\", \"Carrot\")\n",
        "print(myMax)\n"
      ],
      "metadata": {
        "id": "EhA91BDtoqVZ",
        "colab": {
          "base_uri": "https://localhost:8080/"
        },
        "outputId": "11b5eba4-57e7-4f6a-e2f8-dd22fae197e7"
      },
      "execution_count": null,
      "outputs": [
        {
          "output_type": "stream",
          "name": "stdout",
          "text": [
            "apple\n"
          ]
        }
      ]
    },
    {
      "cell_type": "markdown",
      "source": [
        "## Math Functions"
      ],
      "metadata": {
        "id": "acbSjd6Wcm3A"
      }
    },
    {
      "cell_type": "markdown",
      "source": [
        "The police need an App to determind how fast cars were going at the scene of a crash.  They can judge the speed by the length of the skidmarks on the road.  They use the following equation\n",
        "\n",
        "![](https://drive.google.com/uc?export=view&id=1vfXvd5PBsKEUazNHpmr9V-y-W6enQwVQ)\n",
        "\n",
        "Where v is the velocity (in our case speed) and d is the length of the skidmarks.\n",
        "\n",
        "Complete the code below to enter the equation and round the answer to 2 decimal places\n",
        "\n",
        "You may need to import a library."
      ],
      "metadata": {
        "id": "W8dxDSq3pYch"
      }
    },
    {
      "cell_type": "code",
      "source": [
        "# Police Speed app\n",
        "\n",
        "d = int(input(\"Enter the length of the skidmark on the pavement\"))\n",
        "v = 0               #Modify the variable to code the equation\n",
        "print(\"Speed of the car:\", v)\n",
        "\n",
        "\n"
      ],
      "metadata": {
        "id": "YCeLTJVApSmK",
        "colab": {
          "base_uri": "https://localhost:8080/"
        },
        "outputId": "4244a10a-f6c1-4885-9913-8f05881d43ff"
      },
      "execution_count": null,
      "outputs": [
        {
          "output_type": "stream",
          "name": "stdout",
          "text": [
            "Enter the length of the skidmark on the pavement5\n",
            "Speed of the car: 0\n"
          ]
        }
      ]
    },
    {
      "cell_type": "markdown",
      "source": [
        "#Strings"
      ],
      "metadata": {
        "id": "8gPgv0jX1kco"
      }
    },
    {
      "cell_type": "markdown",
      "source": [
        "Observe the given code segments. Answer the questions by making predictions, observations and running the code."
      ],
      "metadata": {
        "id": "a9A2IYqs1nqW"
      }
    },
    {
      "cell_type": "markdown",
      "source": [
        "1. Observe the variable subject1 and subject2.  What is the a difference between the text?\n",
        "2. Run the code below, are the values compared as the same or different?\n",
        "3. One way you can make a comparison not case sensitive is by making the characters all the same case.  Add .lower() to the end of subject1 and subject2 in the if statement.\n",
        "4. Run the program again, do the values compare as the same or different?"
      ],
      "metadata": {
        "id": "Vcfe8nsg1vi_"
      }
    },
    {
      "cell_type": "code",
      "source": [
        "subject1 = \"Python\"\n",
        "subject2 = \"python\"\n",
        "if subject1 == subject2:\n",
        "  print(\"Same\")\n",
        "else:\n",
        "  print(\"Different\")\n"
      ],
      "metadata": {
        "colab": {
          "base_uri": "https://localhost:8080/"
        },
        "id": "Wt36jlXx1697",
        "outputId": "b6b39ba6-a860-4ab1-c54c-425fbdf36155"
      },
      "execution_count": null,
      "outputs": [
        {
          "output_type": "stream",
          "name": "stdout",
          "text": [
            "Different\n"
          ]
        }
      ]
    },
    {
      "cell_type": "markdown",
      "source": [
        "The square brackets [] can be used to return a portion of the string.  For this next exercise we will print one word of the band on each line.  It is currently not working.  \n",
        "1. Observe the first print statement.  Which letter is getting printed?\n",
        "2. Notice that we start our count at 0.  Look at the band name, starting at 0, which position is the first space.\n",
        "3. Modfy the first print statement to print from 0 to the end of the word by using the position of the first space as the ending value.\n",
        "4. Remember, we can start at 0 or leave the value blank and it will still work.  Try removing the 0, run the program again, do you get the same results?\n",
        "5. The values of the second print statement are incorrect as well.  Fix the numbers in the positions so that it prints the word \"Of\"\n",
        "6. Add a print statement for the last word.  Run the program and verify that it prints correctly."
      ],
      "metadata": {
        "id": "CTZIWZJa2cBL"
      }
    },
    {
      "cell_type": "code",
      "source": [
        "#Prints one word on each line\n",
        "name = \"School of Computing\"\n",
        "print(name[0])\n",
        "print(name[8 : 10])\n"
      ],
      "metadata": {
        "id": "_Po_rN0Z2ge1"
      },
      "execution_count": null,
      "outputs": []
    },
    {
      "cell_type": "markdown",
      "source": [
        "Observe the code example below.  \n",
        "1. What is the length of the string str?\n",
        "2. Notice the range of the for loop.  Why do you think it uses the range 0, 5?\n",
        "3. Notice the print statement.  Which value of the string is being printed?\n",
        "4. What do you think will print when you run the code?  Run it to verify your answer.\n",
        "5. Modify the variable str so instead of being the word \"hello\" it uses an input statement to allow the user to enter in any word.\n",
        "6. Run the program again and type a very long word.  Did the entire word get printed?\n",
        "7. Notice the range of the for loop again, it only goes to 5.  The function len will allow us to make the range go up to the length of the word.  Replace 5 with len(str)\n",
        "8. Run the program again and enter a very long word.  Did it print the entire word this time?\n",
        "9. The last character is alwasy one position off from the length.  So if the length of the string is 5, the last position is 4.  We want to modify the for loop so it displays the word in the reverse order.  What could we subtract form the length so it starts at the correct position?\n",
        "10. Modify the rest of the values in the range so the word displays in the reverse order one character per line"
      ],
      "metadata": {
        "id": "wrTQ71vJ2nt4"
      }
    },
    {
      "cell_type": "markdown",
      "source": [
        "##Iterating Strings\n",
        "Observe the two code segments below.\n",
        "1. What is the difference between how they behave?\n",
        "2. What is the difference between how they are coded?"
      ],
      "metadata": {
        "id": "cL4t1kgP3Da1"
      }
    },
    {
      "cell_type": "code",
      "source": [
        "#Prints one letter of the word on each line\n",
        "str = \"hello\"\n",
        "for i in range(0, 5):\n",
        "  print (str[i])"
      ],
      "metadata": {
        "id": "tknO4_xR25CK"
      },
      "execution_count": null,
      "outputs": []
    },
    {
      "cell_type": "code",
      "source": [
        "#Prints one letter of the word on each line\n",
        "str = \"hello\"\n",
        "for i in str:\n",
        "  print (i)"
      ],
      "metadata": {
        "id": "8HkqO7rK2-Qx"
      },
      "execution_count": null,
      "outputs": []
    },
    {
      "cell_type": "markdown",
      "source": [
        "##Your turn\n",
        "\n",
        "Complete the instructions so the following code segment will print the number of numeric values, letters and other characters.\n",
        "1. Run the program.  When prompted, enter a phrase that contains numbers such as Catch 22.  Does the program report the positions of the numbers correctly?\n",
        "2. Observe the if statement.  To what is each character being compared to determine if it has a numeric value?\n",
        "3. If we use a counter, we can count the number of times it runs the if statement.  Add the following code above the for loop.\n",
        "\n",
        "```\n",
        "numbers = 0\n",
        "```\n",
        "4. Instead of a print statement in the for loop, increment the variable count.\n",
        "5. Add a print statement after the for loop to print the variable numbers.\n",
        "6. Run the program again to verify that it prints the correct amount of numbers.\n",
        "7. Test the code and make sure it works.\n",
        "\n"
      ],
      "metadata": {
        "id": "5rXz-jwf325b"
      }
    },
    {
      "cell_type": "code",
      "source": [
        "str = input(\"Enter a sentence that contains text and numbers: \")\n",
        "for i in range(0, len(str)):\n",
        "  if str[i] >= \"0\" and str[i] <= \"9\":\n",
        "    print(\"There is a number at position: \", i)"
      ],
      "metadata": {
        "id": "3nLfBqaS4LPN"
      },
      "execution_count": null,
      "outputs": []
    },
    {
      "cell_type": "markdown",
      "source": [
        "##String Methods\n",
        "String objects have many helpful built-in methods to do things like replacing characters, converting to lowercase, capitalizing the first character, etc. A string has these methods because of the String class. The class contains methods all related to strings.\n",
        "Some examples of String Methods:\n",
        "\n",
        "\n",
        "*   replace(old, new) - replaces the old string with a new string\n",
        "*   find('a')- returns the first index of the where the character is found if none found returns -1\n",
        "\n",
        "Here are some more methods fill out what they do by researching on [W3 Schools](https://www.w3schools.com/python/python_ref_string.asp).\n",
        "*   rfind('a')\n",
        "*   count('a')\n",
        "*   isalpha(name)\n",
        "\n",
        "Add five more string methods you found in your research and explain what they do:\n",
        "\n",
        "1.\n",
        "2.\n",
        "3.\n",
        "4.\n",
        "5.\n",
        "\n",
        "\n",
        "\n"
      ],
      "metadata": {
        "id": "PQeKJ0wv4TPu"
      }
    },
    {
      "cell_type": "markdown",
      "source": [
        "Below use one of the string methods you just learned about to write a short program to try it out."
      ],
      "metadata": {
        "id": "SG08ZD8U4wA7"
      }
    },
    {
      "cell_type": "code",
      "source": [],
      "metadata": {
        "id": "RVEjpy4e432P"
      },
      "execution_count": null,
      "outputs": []
    }
  ]
}